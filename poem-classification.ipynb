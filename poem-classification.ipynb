{
 "cells": [
  {
   "cell_type": "code",
   "execution_count": 1,
   "id": "f9efaaf2",
   "metadata": {
    "_cell_guid": "b1076dfc-b9ad-4769-8c92-a6c4dae69d19",
    "_uuid": "8f2839f25d086af736a60e9eeb907d3b93b6e0e5",
    "execution": {
     "iopub.execute_input": "2022-11-12T09:23:20.434067Z",
     "iopub.status.busy": "2022-11-12T09:23:20.433500Z",
     "iopub.status.idle": "2022-11-12T09:23:21.691823Z",
     "shell.execute_reply": "2022-11-12T09:23:21.690357Z"
    },
    "papermill": {
     "duration": 1.273817,
     "end_time": "2022-11-12T09:23:21.694823",
     "exception": false,
     "start_time": "2022-11-12T09:23:20.421006",
     "status": "completed"
    },
    "tags": []
   },
   "outputs": [],
   "source": [
    "import numpy as np\n",
    "import pandas as pd\n",
    "\n",
    "import seaborn as sns\n",
    "import matplotlib.pyplot as plt\n",
    "%matplotlib inline\n",
    "\n",
    "import warnings\n",
    "warnings.filterwarnings(\"ignore\", category=RuntimeWarning)"
   ]
  },
  {
   "cell_type": "markdown",
   "id": "a362b2eb",
   "metadata": {
    "papermill": {
     "duration": 0.008606,
     "end_time": "2022-11-12T09:23:21.713086",
     "exception": false,
     "start_time": "2022-11-12T09:23:21.704480",
     "status": "completed"
    },
    "tags": []
   },
   "source": [
    "# 1. import data"
   ]
  },
  {
   "cell_type": "code",
   "execution_count": 2,
   "id": "61a441be",
   "metadata": {
    "execution": {
     "iopub.execute_input": "2022-11-12T09:23:21.732655Z",
     "iopub.status.busy": "2022-11-12T09:23:21.732201Z",
     "iopub.status.idle": "2022-11-12T09:23:21.783043Z",
     "shell.execute_reply": "2022-11-12T09:23:21.781766Z"
    },
    "papermill": {
     "duration": 0.063548,
     "end_time": "2022-11-12T09:23:21.785535",
     "exception": false,
     "start_time": "2022-11-12T09:23:21.721987",
     "status": "completed"
    },
    "tags": []
   },
   "outputs": [
    {
     "data": {
      "text/html": [
       "<div>\n",
       "<style scoped>\n",
       "    .dataframe tbody tr th:only-of-type {\n",
       "        vertical-align: middle;\n",
       "    }\n",
       "\n",
       "    .dataframe tbody tr th {\n",
       "        vertical-align: top;\n",
       "    }\n",
       "\n",
       "    .dataframe thead th {\n",
       "        text-align: right;\n",
       "    }\n",
       "</style>\n",
       "<table border=\"1\" class=\"dataframe\">\n",
       "  <thead>\n",
       "    <tr style=\"text-align: right;\">\n",
       "      <th></th>\n",
       "      <th>Genre</th>\n",
       "      <th>Poem</th>\n",
       "    </tr>\n",
       "  </thead>\n",
       "  <tbody>\n",
       "    <tr>\n",
       "      <th>0</th>\n",
       "      <td>Music</td>\n",
       "      <td>NaN</td>\n",
       "    </tr>\n",
       "    <tr>\n",
       "      <th>1</th>\n",
       "      <td>Music</td>\n",
       "      <td>In the thick brushthey spend the...</td>\n",
       "    </tr>\n",
       "    <tr>\n",
       "      <th>2</th>\n",
       "      <td>Music</td>\n",
       "      <td>Storms are generous.                       ...</td>\n",
       "    </tr>\n",
       "    <tr>\n",
       "      <th>3</th>\n",
       "      <td>Music</td>\n",
       "      <td>—After Ana Mendieta Did you carry around the ...</td>\n",
       "    </tr>\n",
       "    <tr>\n",
       "      <th>4</th>\n",
       "      <td>Music</td>\n",
       "      <td>for Aja Sherrard at 20The portent may itself ...</td>\n",
       "    </tr>\n",
       "    <tr>\n",
       "      <th>...</th>\n",
       "      <td>...</td>\n",
       "      <td>...</td>\n",
       "    </tr>\n",
       "    <tr>\n",
       "      <th>836</th>\n",
       "      <td>Environment</td>\n",
       "      <td>Why make so much of fragmentary blue In here a...</td>\n",
       "    </tr>\n",
       "    <tr>\n",
       "      <th>837</th>\n",
       "      <td>Environment</td>\n",
       "      <td>Woman, I wish I didn't know your name. What co...</td>\n",
       "    </tr>\n",
       "    <tr>\n",
       "      <th>838</th>\n",
       "      <td>Environment</td>\n",
       "      <td>Yonder to the kiosk, beside the creek, Paddle ...</td>\n",
       "    </tr>\n",
       "    <tr>\n",
       "      <th>839</th>\n",
       "      <td>Environment</td>\n",
       "      <td>You come to fetch me from my work to-night Whe...</td>\n",
       "    </tr>\n",
       "    <tr>\n",
       "      <th>840</th>\n",
       "      <td>Environment</td>\n",
       "      <td>You see them through water and glass, (both li...</td>\n",
       "    </tr>\n",
       "  </tbody>\n",
       "</table>\n",
       "<p>841 rows × 2 columns</p>\n",
       "</div>"
      ],
      "text/plain": [
       "           Genre                                               Poem\n",
       "0          Music                                                NaN\n",
       "1          Music                In the thick brushthey spend the...\n",
       "2          Music     Storms are generous.                       ...\n",
       "3          Music   —After Ana Mendieta Did you carry around the ...\n",
       "4          Music   for Aja Sherrard at 20The portent may itself ...\n",
       "..           ...                                                ...\n",
       "836  Environment  Why make so much of fragmentary blue In here a...\n",
       "837  Environment  Woman, I wish I didn't know your name. What co...\n",
       "838  Environment  Yonder to the kiosk, beside the creek, Paddle ...\n",
       "839  Environment  You come to fetch me from my work to-night Whe...\n",
       "840  Environment  You see them through water and glass, (both li...\n",
       "\n",
       "[841 rows x 2 columns]"
      ]
     },
     "execution_count": 2,
     "metadata": {},
     "output_type": "execute_result"
    }
   ],
   "source": [
    "# train data\n",
    "\n",
    "poem_train = pd.read_csv('../input/poem-classification-nlp/Poem_classification - train_data.csv')\n",
    "poem_train\n",
    "\n",
    "# 841 rows × 2 columns"
   ]
  },
  {
   "cell_type": "code",
   "execution_count": 3,
   "id": "f93008e7",
   "metadata": {
    "execution": {
     "iopub.execute_input": "2022-11-12T09:23:21.805905Z",
     "iopub.status.busy": "2022-11-12T09:23:21.805447Z",
     "iopub.status.idle": "2022-11-12T09:23:21.815714Z",
     "shell.execute_reply": "2022-11-12T09:23:21.814280Z"
    },
    "papermill": {
     "duration": 0.023334,
     "end_time": "2022-11-12T09:23:21.818273",
     "exception": false,
     "start_time": "2022-11-12T09:23:21.794939",
     "status": "completed"
    },
    "tags": []
   },
   "outputs": [
    {
     "data": {
      "text/plain": [
       "Genre    0\n",
       "Poem     4\n",
       "dtype: int64"
      ]
     },
     "execution_count": 3,
     "metadata": {},
     "output_type": "execute_result"
    }
   ],
   "source": [
    "poem_train.isnull().sum()"
   ]
  },
  {
   "cell_type": "code",
   "execution_count": 4,
   "id": "d161b97d",
   "metadata": {
    "execution": {
     "iopub.execute_input": "2022-11-12T09:23:21.841060Z",
     "iopub.status.busy": "2022-11-12T09:23:21.840613Z",
     "iopub.status.idle": "2022-11-12T09:23:21.855164Z",
     "shell.execute_reply": "2022-11-12T09:23:21.853734Z"
    },
    "papermill": {
     "duration": 0.028373,
     "end_time": "2022-11-12T09:23:21.857772",
     "exception": false,
     "start_time": "2022-11-12T09:23:21.829399",
     "status": "completed"
    },
    "tags": []
   },
   "outputs": [
    {
     "data": {
      "text/plain": [
       "Genre    0\n",
       "Poem     0\n",
       "dtype: int64"
      ]
     },
     "execution_count": 4,
     "metadata": {},
     "output_type": "execute_result"
    }
   ],
   "source": [
    "# remove NA data\n",
    "\n",
    "poem_train = poem_train.dropna(axis=0)\n",
    "poem_train.isnull().sum()"
   ]
  },
  {
   "cell_type": "code",
   "execution_count": 5,
   "id": "b90dda89",
   "metadata": {
    "execution": {
     "iopub.execute_input": "2022-11-12T09:23:21.879582Z",
     "iopub.status.busy": "2022-11-12T09:23:21.879164Z",
     "iopub.status.idle": "2022-11-12T09:23:21.893570Z",
     "shell.execute_reply": "2022-11-12T09:23:21.892318Z"
    },
    "papermill": {
     "duration": 0.028992,
     "end_time": "2022-11-12T09:23:21.896160",
     "exception": false,
     "start_time": "2022-11-12T09:23:21.867168",
     "status": "completed"
    },
    "tags": []
   },
   "outputs": [
    {
     "data": {
      "text/html": [
       "<div>\n",
       "<style scoped>\n",
       "    .dataframe tbody tr th:only-of-type {\n",
       "        vertical-align: middle;\n",
       "    }\n",
       "\n",
       "    .dataframe tbody tr th {\n",
       "        vertical-align: top;\n",
       "    }\n",
       "\n",
       "    .dataframe thead th {\n",
       "        text-align: right;\n",
       "    }\n",
       "</style>\n",
       "<table border=\"1\" class=\"dataframe\">\n",
       "  <thead>\n",
       "    <tr style=\"text-align: right;\">\n",
       "      <th></th>\n",
       "      <th>Genre</th>\n",
       "      <th>Poem</th>\n",
       "    </tr>\n",
       "  </thead>\n",
       "  <tbody>\n",
       "    <tr>\n",
       "      <th>1</th>\n",
       "      <td>Music</td>\n",
       "      <td>In the thick brushthey spend the...</td>\n",
       "    </tr>\n",
       "    <tr>\n",
       "      <th>2</th>\n",
       "      <td>Music</td>\n",
       "      <td>Storms are generous.                       ...</td>\n",
       "    </tr>\n",
       "    <tr>\n",
       "      <th>3</th>\n",
       "      <td>Music</td>\n",
       "      <td>—After Ana Mendieta Did you carry around the ...</td>\n",
       "    </tr>\n",
       "    <tr>\n",
       "      <th>4</th>\n",
       "      <td>Music</td>\n",
       "      <td>for Aja Sherrard at 20The portent may itself ...</td>\n",
       "    </tr>\n",
       "    <tr>\n",
       "      <th>5</th>\n",
       "      <td>Music</td>\n",
       "      <td>for Bob Marley, Bavaria, November 1980 Here i...</td>\n",
       "    </tr>\n",
       "    <tr>\n",
       "      <th>...</th>\n",
       "      <td>...</td>\n",
       "      <td>...</td>\n",
       "    </tr>\n",
       "    <tr>\n",
       "      <th>836</th>\n",
       "      <td>Environment</td>\n",
       "      <td>Why make so much of fragmentary blue In here a...</td>\n",
       "    </tr>\n",
       "    <tr>\n",
       "      <th>837</th>\n",
       "      <td>Environment</td>\n",
       "      <td>Woman, I wish I didn't know your name. What co...</td>\n",
       "    </tr>\n",
       "    <tr>\n",
       "      <th>838</th>\n",
       "      <td>Environment</td>\n",
       "      <td>Yonder to the kiosk, beside the creek, Paddle ...</td>\n",
       "    </tr>\n",
       "    <tr>\n",
       "      <th>839</th>\n",
       "      <td>Environment</td>\n",
       "      <td>You come to fetch me from my work to-night Whe...</td>\n",
       "    </tr>\n",
       "    <tr>\n",
       "      <th>840</th>\n",
       "      <td>Environment</td>\n",
       "      <td>You see them through water and glass, (both li...</td>\n",
       "    </tr>\n",
       "  </tbody>\n",
       "</table>\n",
       "<p>837 rows × 2 columns</p>\n",
       "</div>"
      ],
      "text/plain": [
       "           Genre                                               Poem\n",
       "1          Music                In the thick brushthey spend the...\n",
       "2          Music     Storms are generous.                       ...\n",
       "3          Music   —After Ana Mendieta Did you carry around the ...\n",
       "4          Music   for Aja Sherrard at 20The portent may itself ...\n",
       "5          Music   for Bob Marley, Bavaria, November 1980 Here i...\n",
       "..           ...                                                ...\n",
       "836  Environment  Why make so much of fragmentary blue In here a...\n",
       "837  Environment  Woman, I wish I didn't know your name. What co...\n",
       "838  Environment  Yonder to the kiosk, beside the creek, Paddle ...\n",
       "839  Environment  You come to fetch me from my work to-night Whe...\n",
       "840  Environment  You see them through water and glass, (both li...\n",
       "\n",
       "[837 rows x 2 columns]"
      ]
     },
     "execution_count": 5,
     "metadata": {},
     "output_type": "execute_result"
    }
   ],
   "source": [
    "poem_train\n",
    "\n",
    "# 837 rows × 2 columns"
   ]
  },
  {
   "cell_type": "code",
   "execution_count": 6,
   "id": "cbbde1d1",
   "metadata": {
    "execution": {
     "iopub.execute_input": "2022-11-12T09:23:21.917622Z",
     "iopub.status.busy": "2022-11-12T09:23:21.917162Z",
     "iopub.status.idle": "2022-11-12T09:23:21.940986Z",
     "shell.execute_reply": "2022-11-12T09:23:21.939983Z"
    },
    "papermill": {
     "duration": 0.037437,
     "end_time": "2022-11-12T09:23:21.943567",
     "exception": false,
     "start_time": "2022-11-12T09:23:21.906130",
     "status": "completed"
    },
    "tags": []
   },
   "outputs": [
    {
     "data": {
      "text/html": [
       "<div>\n",
       "<style scoped>\n",
       "    .dataframe tbody tr th:only-of-type {\n",
       "        vertical-align: middle;\n",
       "    }\n",
       "\n",
       "    .dataframe tbody tr th {\n",
       "        vertical-align: top;\n",
       "    }\n",
       "\n",
       "    .dataframe thead th {\n",
       "        text-align: right;\n",
       "    }\n",
       "</style>\n",
       "<table border=\"1\" class=\"dataframe\">\n",
       "  <thead>\n",
       "    <tr style=\"text-align: right;\">\n",
       "      <th></th>\n",
       "      <th>Genre</th>\n",
       "      <th>Poem</th>\n",
       "    </tr>\n",
       "  </thead>\n",
       "  <tbody>\n",
       "    <tr>\n",
       "      <th>0</th>\n",
       "      <td>Music</td>\n",
       "      <td>A woman walks by the bench I’m sitting onwith ...</td>\n",
       "    </tr>\n",
       "    <tr>\n",
       "      <th>1</th>\n",
       "      <td>Music</td>\n",
       "      <td>Because I am a boy, the untouchability of beau...</td>\n",
       "    </tr>\n",
       "    <tr>\n",
       "      <th>2</th>\n",
       "      <td>Music</td>\n",
       "      <td>Because today we did not leave this world,We n...</td>\n",
       "    </tr>\n",
       "    <tr>\n",
       "      <th>3</th>\n",
       "      <td>Music</td>\n",
       "      <td>Big Bend has been here, been here. Shouldn’t i...</td>\n",
       "    </tr>\n",
       "    <tr>\n",
       "      <th>4</th>\n",
       "      <td>Music</td>\n",
       "      <td>I put shells there, along the lip of the road....</td>\n",
       "    </tr>\n",
       "    <tr>\n",
       "      <th>...</th>\n",
       "      <td>...</td>\n",
       "      <td>...</td>\n",
       "    </tr>\n",
       "    <tr>\n",
       "      <th>145</th>\n",
       "      <td>Environment</td>\n",
       "      <td>To pick a tulip from the garden, the red one. ...</td>\n",
       "    </tr>\n",
       "    <tr>\n",
       "      <th>146</th>\n",
       "      <td>Environment</td>\n",
       "      <td>We are as clouds that veil the midnight moon; ...</td>\n",
       "    </tr>\n",
       "    <tr>\n",
       "      <th>147</th>\n",
       "      <td>Environment</td>\n",
       "      <td>When pulled, the spider web took another form....</td>\n",
       "    </tr>\n",
       "    <tr>\n",
       "      <th>148</th>\n",
       "      <td>Environment</td>\n",
       "      <td>Whose woods these are I think I know. His hous...</td>\n",
       "    </tr>\n",
       "    <tr>\n",
       "      <th>149</th>\n",
       "      <td>Environment</td>\n",
       "      <td>you can make the maples blazejust by stopping ...</td>\n",
       "    </tr>\n",
       "  </tbody>\n",
       "</table>\n",
       "<p>150 rows × 2 columns</p>\n",
       "</div>"
      ],
      "text/plain": [
       "           Genre                                               Poem\n",
       "0          Music  A woman walks by the bench I’m sitting onwith ...\n",
       "1          Music  Because I am a boy, the untouchability of beau...\n",
       "2          Music  Because today we did not leave this world,We n...\n",
       "3          Music  Big Bend has been here, been here. Shouldn’t i...\n",
       "4          Music  I put shells there, along the lip of the road....\n",
       "..           ...                                                ...\n",
       "145  Environment  To pick a tulip from the garden, the red one. ...\n",
       "146  Environment  We are as clouds that veil the midnight moon; ...\n",
       "147  Environment  When pulled, the spider web took another form....\n",
       "148  Environment  Whose woods these are I think I know. His hous...\n",
       "149  Environment  you can make the maples blazejust by stopping ...\n",
       "\n",
       "[150 rows x 2 columns]"
      ]
     },
     "execution_count": 6,
     "metadata": {},
     "output_type": "execute_result"
    }
   ],
   "source": [
    "# test data\n",
    "\n",
    "poem_test = pd.read_csv('../input/poem-classification-nlp/Poem_classification - test_data.csv')\n",
    "poem_test"
   ]
  },
  {
   "cell_type": "code",
   "execution_count": 7,
   "id": "7a8aef4d",
   "metadata": {
    "execution": {
     "iopub.execute_input": "2022-11-12T09:23:21.966468Z",
     "iopub.status.busy": "2022-11-12T09:23:21.965821Z",
     "iopub.status.idle": "2022-11-12T09:23:21.976220Z",
     "shell.execute_reply": "2022-11-12T09:23:21.974822Z"
    },
    "papermill": {
     "duration": 0.026421,
     "end_time": "2022-11-12T09:23:21.980155",
     "exception": false,
     "start_time": "2022-11-12T09:23:21.953734",
     "status": "completed"
    },
    "tags": []
   },
   "outputs": [
    {
     "data": {
      "text/plain": [
       "Genre    0\n",
       "Poem     0\n",
       "dtype: int64"
      ]
     },
     "execution_count": 7,
     "metadata": {},
     "output_type": "execute_result"
    }
   ],
   "source": [
    "poem_test.isnull().sum()"
   ]
  },
  {
   "cell_type": "markdown",
   "id": "2b9df952",
   "metadata": {
    "papermill": {
     "duration": 0.009742,
     "end_time": "2022-11-12T09:23:22.000164",
     "exception": false,
     "start_time": "2022-11-12T09:23:21.990422",
     "status": "completed"
    },
    "tags": []
   },
   "source": [
    "# 2. split data into X and y"
   ]
  },
  {
   "cell_type": "code",
   "execution_count": 8,
   "id": "0a9c20f9",
   "metadata": {
    "execution": {
     "iopub.execute_input": "2022-11-12T09:23:22.025338Z",
     "iopub.status.busy": "2022-11-12T09:23:22.024706Z",
     "iopub.status.idle": "2022-11-12T09:23:22.045720Z",
     "shell.execute_reply": "2022-11-12T09:23:22.044078Z"
    },
    "papermill": {
     "duration": 0.037397,
     "end_time": "2022-11-12T09:23:22.049105",
     "exception": false,
     "start_time": "2022-11-12T09:23:22.011708",
     "status": "completed"
    },
    "tags": []
   },
   "outputs": [
    {
     "data": {
      "text/plain": [
       "Music          238\n",
       "Death          231\n",
       "Environment    227\n",
       "Affection      141\n",
       "Name: Genre, dtype: int64"
      ]
     },
     "execution_count": 8,
     "metadata": {},
     "output_type": "execute_result"
    }
   ],
   "source": [
    "poem_train.Genre.value_counts()"
   ]
  },
  {
   "cell_type": "code",
   "execution_count": 9,
   "id": "e3c787e2",
   "metadata": {
    "execution": {
     "iopub.execute_input": "2022-11-12T09:23:22.074162Z",
     "iopub.status.busy": "2022-11-12T09:23:22.073652Z",
     "iopub.status.idle": "2022-11-12T09:23:22.085750Z",
     "shell.execute_reply": "2022-11-12T09:23:22.084720Z"
    },
    "papermill": {
     "duration": 0.029518,
     "end_time": "2022-11-12T09:23:22.089348",
     "exception": false,
     "start_time": "2022-11-12T09:23:22.059830",
     "status": "completed"
    },
    "tags": []
   },
   "outputs": [
    {
     "data": {
      "text/plain": [
       "Affection      100\n",
       "Environment     25\n",
       "Death           13\n",
       "Music           12\n",
       "Name: Genre, dtype: int64"
      ]
     },
     "execution_count": 9,
     "metadata": {},
     "output_type": "execute_result"
    }
   ],
   "source": [
    "poem_test.Genre.value_counts()"
   ]
  },
  {
   "cell_type": "code",
   "execution_count": 10,
   "id": "e036dd51",
   "metadata": {
    "execution": {
     "iopub.execute_input": "2022-11-12T09:23:22.113806Z",
     "iopub.status.busy": "2022-11-12T09:23:22.113367Z",
     "iopub.status.idle": "2022-11-12T09:23:22.123144Z",
     "shell.execute_reply": "2022-11-12T09:23:22.121769Z"
    },
    "papermill": {
     "duration": 0.026428,
     "end_time": "2022-11-12T09:23:22.127565",
     "exception": false,
     "start_time": "2022-11-12T09:23:22.101137",
     "status": "completed"
    },
    "tags": []
   },
   "outputs": [
    {
     "data": {
      "text/plain": [
       "1                    In the thick brushthey spend the...\n",
       "2         Storms are generous.                       ...\n",
       "3       —After Ana Mendieta Did you carry around the ...\n",
       "4       for Aja Sherrard at 20The portent may itself ...\n",
       "5       for Bob Marley, Bavaria, November 1980 Here i...\n",
       "                             ...                        \n",
       "836    Why make so much of fragmentary blue In here a...\n",
       "837    Woman, I wish I didn't know your name. What co...\n",
       "838    Yonder to the kiosk, beside the creek, Paddle ...\n",
       "839    You come to fetch me from my work to-night Whe...\n",
       "840    You see them through water and glass, (both li...\n",
       "Name: Poem, Length: 837, dtype: object"
      ]
     },
     "execution_count": 10,
     "metadata": {},
     "output_type": "execute_result"
    }
   ],
   "source": [
    "X_train = poem_train['Poem']\n",
    "X_train"
   ]
  },
  {
   "cell_type": "code",
   "execution_count": 11,
   "id": "0d9621ac",
   "metadata": {
    "execution": {
     "iopub.execute_input": "2022-11-12T09:23:22.161092Z",
     "iopub.status.busy": "2022-11-12T09:23:22.160573Z",
     "iopub.status.idle": "2022-11-12T09:23:22.170957Z",
     "shell.execute_reply": "2022-11-12T09:23:22.168985Z"
    },
    "papermill": {
     "duration": 0.028502,
     "end_time": "2022-11-12T09:23:22.174566",
     "exception": false,
     "start_time": "2022-11-12T09:23:22.146064",
     "status": "completed"
    },
    "tags": []
   },
   "outputs": [
    {
     "data": {
      "text/plain": [
       "1            Music\n",
       "2            Music\n",
       "3            Music\n",
       "4            Music\n",
       "5            Music\n",
       "          ...     \n",
       "836    Environment\n",
       "837    Environment\n",
       "838    Environment\n",
       "839    Environment\n",
       "840    Environment\n",
       "Name: Genre, Length: 837, dtype: object"
      ]
     },
     "execution_count": 11,
     "metadata": {},
     "output_type": "execute_result"
    }
   ],
   "source": [
    "y_train = poem_train['Genre']\n",
    "y_train"
   ]
  },
  {
   "cell_type": "code",
   "execution_count": 12,
   "id": "6a1702cf",
   "metadata": {
    "execution": {
     "iopub.execute_input": "2022-11-12T09:23:22.207853Z",
     "iopub.status.busy": "2022-11-12T09:23:22.207051Z",
     "iopub.status.idle": "2022-11-12T09:23:22.217337Z",
     "shell.execute_reply": "2022-11-12T09:23:22.216304Z"
    },
    "papermill": {
     "duration": 0.028718,
     "end_time": "2022-11-12T09:23:22.220158",
     "exception": false,
     "start_time": "2022-11-12T09:23:22.191440",
     "status": "completed"
    },
    "tags": []
   },
   "outputs": [
    {
     "data": {
      "text/plain": [
       "0      A woman walks by the bench I’m sitting onwith ...\n",
       "1      Because I am a boy, the untouchability of beau...\n",
       "2      Because today we did not leave this world,We n...\n",
       "3      Big Bend has been here, been here. Shouldn’t i...\n",
       "4      I put shells there, along the lip of the road....\n",
       "                             ...                        \n",
       "145    To pick a tulip from the garden, the red one. ...\n",
       "146    We are as clouds that veil the midnight moon; ...\n",
       "147    When pulled, the spider web took another form....\n",
       "148    Whose woods these are I think I know. His hous...\n",
       "149    you can make the maples blazejust by stopping ...\n",
       "Name: Poem, Length: 150, dtype: object"
      ]
     },
     "execution_count": 12,
     "metadata": {},
     "output_type": "execute_result"
    }
   ],
   "source": [
    "X_test = poem_test.Poem\n",
    "X_test"
   ]
  },
  {
   "cell_type": "code",
   "execution_count": 13,
   "id": "fa8fac0f",
   "metadata": {
    "execution": {
     "iopub.execute_input": "2022-11-12T09:23:22.251784Z",
     "iopub.status.busy": "2022-11-12T09:23:22.251228Z",
     "iopub.status.idle": "2022-11-12T09:23:22.263545Z",
     "shell.execute_reply": "2022-11-12T09:23:22.261945Z"
    },
    "papermill": {
     "duration": 0.034775,
     "end_time": "2022-11-12T09:23:22.266468",
     "exception": false,
     "start_time": "2022-11-12T09:23:22.231693",
     "status": "completed"
    },
    "tags": []
   },
   "outputs": [
    {
     "data": {
      "text/plain": [
       "0            Music\n",
       "1            Music\n",
       "2            Music\n",
       "3            Music\n",
       "4            Music\n",
       "          ...     \n",
       "145    Environment\n",
       "146    Environment\n",
       "147    Environment\n",
       "148    Environment\n",
       "149    Environment\n",
       "Name: Genre, Length: 150, dtype: object"
      ]
     },
     "execution_count": 13,
     "metadata": {},
     "output_type": "execute_result"
    }
   ],
   "source": [
    "y_test = poem_test.Genre\n",
    "y_test"
   ]
  },
  {
   "cell_type": "markdown",
   "id": "8f90fd30",
   "metadata": {
    "papermill": {
     "duration": 0.011865,
     "end_time": "2022-11-12T09:23:22.291230",
     "exception": false,
     "start_time": "2022-11-12T09:23:22.279365",
     "status": "completed"
    },
    "tags": []
   },
   "source": [
    "# 3. feature vectorization by Count "
   ]
  },
  {
   "cell_type": "code",
   "execution_count": 14,
   "id": "3e2920e8",
   "metadata": {
    "execution": {
     "iopub.execute_input": "2022-11-12T09:23:22.316023Z",
     "iopub.status.busy": "2022-11-12T09:23:22.315585Z",
     "iopub.status.idle": "2022-11-12T09:23:22.602441Z",
     "shell.execute_reply": "2022-11-12T09:23:22.601215Z"
    },
    "papermill": {
     "duration": 0.302326,
     "end_time": "2022-11-12T09:23:22.605118",
     "exception": false,
     "start_time": "2022-11-12T09:23:22.302792",
     "status": "completed"
    },
    "tags": []
   },
   "outputs": [
    {
     "data": {
      "text/plain": [
       "((837, 8169), (150, 8169))"
      ]
     },
     "execution_count": 14,
     "metadata": {},
     "output_type": "execute_result"
    }
   ],
   "source": [
    "from sklearn.feature_extraction.text import CountVectorizer\n",
    "\n",
    "count_vector = CountVectorizer(stop_words='english', max_df=100) \n",
    "# default lowercase = True, analyser = True, ngram_range=(1,1)\n",
    "\n",
    "count_vector.fit(X_train)\n",
    "X_train_count_vector = count_vector.transform(X_train)\n",
    "X_test_count_vector = count_vector.transform(X_test)\n",
    "\n",
    "X_train_count_vector.shape, X_test_count_vector.shape"
   ]
  },
  {
   "cell_type": "code",
   "execution_count": 15,
   "id": "66d74836",
   "metadata": {
    "execution": {
     "iopub.execute_input": "2022-11-12T09:23:22.630756Z",
     "iopub.status.busy": "2022-11-12T09:23:22.629636Z",
     "iopub.status.idle": "2022-11-12T09:23:22.636365Z",
     "shell.execute_reply": "2022-11-12T09:23:22.635396Z"
    },
    "papermill": {
     "duration": 0.022278,
     "end_time": "2022-11-12T09:23:22.638992",
     "exception": false,
     "start_time": "2022-11-12T09:23:22.616714",
     "status": "completed"
    },
    "tags": []
   },
   "outputs": [
    {
     "data": {
      "text/plain": [
       "<837x8169 sparse matrix of type '<class 'numpy.int64'>'\n",
       "\twith 18814 stored elements in Compressed Sparse Row format>"
      ]
     },
     "execution_count": 15,
     "metadata": {},
     "output_type": "execute_result"
    }
   ],
   "source": [
    "X_train_count_vector"
   ]
  },
  {
   "cell_type": "code",
   "execution_count": 16,
   "id": "8b09b822",
   "metadata": {
    "execution": {
     "iopub.execute_input": "2022-11-12T09:23:22.666078Z",
     "iopub.status.busy": "2022-11-12T09:23:22.665564Z",
     "iopub.status.idle": "2022-11-12T09:23:22.672724Z",
     "shell.execute_reply": "2022-11-12T09:23:22.671516Z"
    },
    "papermill": {
     "duration": 0.024197,
     "end_time": "2022-11-12T09:23:22.675407",
     "exception": false,
     "start_time": "2022-11-12T09:23:22.651210",
     "status": "completed"
    },
    "tags": []
   },
   "outputs": [
    {
     "data": {
      "text/plain": [
       "<150x8169 sparse matrix of type '<class 'numpy.int64'>'\n",
       "\twith 2522 stored elements in Compressed Sparse Row format>"
      ]
     },
     "execution_count": 16,
     "metadata": {},
     "output_type": "execute_result"
    }
   ],
   "source": [
    "X_test_count_vector"
   ]
  },
  {
   "cell_type": "markdown",
   "id": "b87c8be9",
   "metadata": {
    "papermill": {
     "duration": 0.011095,
     "end_time": "2022-11-12T09:23:22.699193",
     "exception": false,
     "start_time": "2022-11-12T09:23:22.688098",
     "status": "completed"
    },
    "tags": []
   },
   "source": [
    "# 4. LogisticRegression"
   ]
  },
  {
   "cell_type": "code",
   "execution_count": 17,
   "id": "fecb1ac8",
   "metadata": {
    "execution": {
     "iopub.execute_input": "2022-11-12T09:23:22.725389Z",
     "iopub.status.busy": "2022-11-12T09:23:22.724876Z",
     "iopub.status.idle": "2022-11-12T09:23:23.597684Z",
     "shell.execute_reply": "2022-11-12T09:23:23.595679Z"
    },
    "papermill": {
     "duration": 0.892142,
     "end_time": "2022-11-12T09:23:23.602641",
     "exception": false,
     "start_time": "2022-11-12T09:23:22.710499",
     "status": "completed"
    },
    "tags": []
   },
   "outputs": [
    {
     "data": {
      "text/plain": [
       "0.34"
      ]
     },
     "execution_count": 17,
     "metadata": {},
     "output_type": "execute_result"
    }
   ],
   "source": [
    "from sklearn.linear_model import LogisticRegression\n",
    "from sklearn.metrics import accuracy_score\n",
    "\n",
    "lr_clf = LogisticRegression(max_iter=5000)\n",
    "lr_clf.fit(X_train_count_vector, y_train)\n",
    "pred = lr_clf.predict(X_test_count_vector)\n",
    "\n",
    "accuracy_score(y_test, pred)"
   ]
  },
  {
   "cell_type": "code",
   "execution_count": 18,
   "id": "2bb10410",
   "metadata": {
    "execution": {
     "iopub.execute_input": "2022-11-12T09:23:23.701831Z",
     "iopub.status.busy": "2022-11-12T09:23:23.701412Z",
     "iopub.status.idle": "2022-11-12T09:23:23.707072Z",
     "shell.execute_reply": "2022-11-12T09:23:23.706009Z"
    },
    "papermill": {
     "duration": 0.043937,
     "end_time": "2022-11-12T09:23:23.709636",
     "exception": false,
     "start_time": "2022-11-12T09:23:23.665699",
     "status": "completed"
    },
    "tags": []
   },
   "outputs": [],
   "source": [
    "from sklearn.metrics import confusion_matrix, classification_report, roc_auc_score"
   ]
  },
  {
   "cell_type": "code",
   "execution_count": 19,
   "id": "7fe31cf1",
   "metadata": {
    "execution": {
     "iopub.execute_input": "2022-11-12T09:23:23.736349Z",
     "iopub.status.busy": "2022-11-12T09:23:23.735456Z",
     "iopub.status.idle": "2022-11-12T09:23:23.745110Z",
     "shell.execute_reply": "2022-11-12T09:23:23.743478Z"
    },
    "papermill": {
     "duration": 0.02605,
     "end_time": "2022-11-12T09:23:23.747994",
     "exception": false,
     "start_time": "2022-11-12T09:23:23.721944",
     "status": "completed"
    },
    "tags": []
   },
   "outputs": [
    {
     "name": "stdout",
     "output_type": "stream",
     "text": [
      "[[25 23 21 31]\n",
      " [ 2  3  5  3]\n",
      " [ 1  6 14  4]\n",
      " [ 0  0  3  9]]\n"
     ]
    }
   ],
   "source": [
    "# confusion matrix\n",
    "print(confusion_matrix(y_test, pred))"
   ]
  },
  {
   "cell_type": "code",
   "execution_count": 20,
   "id": "033d7e6c",
   "metadata": {
    "execution": {
     "iopub.execute_input": "2022-11-12T09:23:23.775412Z",
     "iopub.status.busy": "2022-11-12T09:23:23.774742Z",
     "iopub.status.idle": "2022-11-12T09:23:23.789859Z",
     "shell.execute_reply": "2022-11-12T09:23:23.788436Z"
    },
    "papermill": {
     "duration": 0.031158,
     "end_time": "2022-11-12T09:23:23.792693",
     "exception": false,
     "start_time": "2022-11-12T09:23:23.761535",
     "status": "completed"
    },
    "tags": []
   },
   "outputs": [
    {
     "name": "stdout",
     "output_type": "stream",
     "text": [
      "              precision    recall  f1-score   support\n",
      "\n",
      "   Affection       0.89      0.25      0.39       100\n",
      "       Death       0.09      0.23      0.13        13\n",
      " Environment       0.33      0.56      0.41        25\n",
      "       Music       0.19      0.75      0.31        12\n",
      "\n",
      "    accuracy                           0.34       150\n",
      "   macro avg       0.38      0.45      0.31       150\n",
      "weighted avg       0.67      0.34      0.37       150\n",
      "\n"
     ]
    }
   ],
   "source": [
    "# classification_report\n",
    "print(classification_report(y_test, pred))"
   ]
  },
  {
   "cell_type": "markdown",
   "id": "8cbda435",
   "metadata": {
    "papermill": {
     "duration": 0.013479,
     "end_time": "2022-11-12T09:23:23.819046",
     "exception": false,
     "start_time": "2022-11-12T09:23:23.805567",
     "status": "completed"
    },
    "tags": []
   },
   "source": [
    "# 5. feature vectorization by TF-IDF"
   ]
  },
  {
   "cell_type": "code",
   "execution_count": 21,
   "id": "9a245270",
   "metadata": {
    "execution": {
     "iopub.execute_input": "2022-11-12T09:23:23.845640Z",
     "iopub.status.busy": "2022-11-12T09:23:23.844716Z",
     "iopub.status.idle": "2022-11-12T09:23:23.958148Z",
     "shell.execute_reply": "2022-11-12T09:23:23.956916Z"
    },
    "papermill": {
     "duration": 0.130456,
     "end_time": "2022-11-12T09:23:23.961703",
     "exception": false,
     "start_time": "2022-11-12T09:23:23.831247",
     "status": "completed"
    },
    "tags": []
   },
   "outputs": [
    {
     "data": {
      "text/plain": [
       "((837, 8169), (150, 8169))"
      ]
     },
     "execution_count": 21,
     "metadata": {},
     "output_type": "execute_result"
    }
   ],
   "source": [
    "from sklearn.feature_extraction.text import TfidfVectorizer\n",
    "\n",
    "tfidf_vector = TfidfVectorizer(stop_words='english', max_df=100)\n",
    "# default lowercase = True, analyser = True, ngram_range=(1,1)\n",
    "\n",
    "tfidf_vector.fit(X_train)\n",
    "\n",
    "X_train_tfidf_vector = tfidf_vector.transform(X_train)\n",
    "X_test_tfidf_vector = tfidf_vector.transform(X_test)\n",
    "\n",
    "X_train_tfidf_vector.shape, X_test_tfidf_vector.shape"
   ]
  },
  {
   "cell_type": "code",
   "execution_count": 22,
   "id": "fda62a97",
   "metadata": {
    "execution": {
     "iopub.execute_input": "2022-11-12T09:23:23.988682Z",
     "iopub.status.busy": "2022-11-12T09:23:23.988238Z",
     "iopub.status.idle": "2022-11-12T09:23:24.909754Z",
     "shell.execute_reply": "2022-11-12T09:23:24.907068Z"
    },
    "papermill": {
     "duration": 0.94038,
     "end_time": "2022-11-12T09:23:24.914929",
     "exception": false,
     "start_time": "2022-11-12T09:23:23.974549",
     "status": "completed"
    },
    "tags": []
   },
   "outputs": [
    {
     "data": {
      "text/plain": [
       "0.28"
      ]
     },
     "execution_count": 22,
     "metadata": {},
     "output_type": "execute_result"
    }
   ],
   "source": [
    "lr_clf_2 = LogisticRegression(max_iter=5000)\n",
    "lr_clf_2.fit(X_train_tfidf_vector, y_train)\n",
    "pred = lr_clf_2.predict(X_test_tfidf_vector)\n",
    "\n",
    "accuracy_score(y_test, pred)"
   ]
  },
  {
   "cell_type": "markdown",
   "id": "05dc6c1f",
   "metadata": {
    "papermill": {
     "duration": 0.024069,
     "end_time": "2022-11-12T09:23:25.019499",
     "exception": false,
     "start_time": "2022-11-12T09:23:24.995430",
     "status": "completed"
    },
    "tags": []
   },
   "source": [
    "# 6. LR optimization by GridSearchCV  "
   ]
  },
  {
   "cell_type": "code",
   "execution_count": 23,
   "id": "2a7698f2",
   "metadata": {
    "execution": {
     "iopub.execute_input": "2022-11-12T09:23:25.045561Z",
     "iopub.status.busy": "2022-11-12T09:23:25.045073Z",
     "iopub.status.idle": "2022-11-12T09:24:11.234832Z",
     "shell.execute_reply": "2022-11-12T09:24:11.232943Z"
    },
    "papermill": {
     "duration": 46.288395,
     "end_time": "2022-11-12T09:24:11.320086",
     "exception": false,
     "start_time": "2022-11-12T09:23:25.031691",
     "status": "completed"
    },
    "tags": []
   },
   "outputs": [
    {
     "name": "stdout",
     "output_type": "stream",
     "text": [
      "Fitting 10 folds for each of 5 candidates, totalling 50 fits\n"
     ]
    },
    {
     "data": {
      "text/plain": [
       "{'C': 0.1}"
      ]
     },
     "execution_count": 23,
     "metadata": {},
     "output_type": "execute_result"
    }
   ],
   "source": [
    "from sklearn.model_selection import GridSearchCV\n",
    "\n",
    "params = {'C': [0.01, 0.1, 1, 5, 10]}\n",
    "grid_cv_lr = GridSearchCV(lr_clf, param_grid=params, cv=10, scoring='accuracy', verbose=1)\n",
    "grid_cv_lr.fit(X_train_count_vector, y_train)\n",
    "grid_cv_lr.best_params_"
   ]
  },
  {
   "cell_type": "code",
   "execution_count": 24,
   "id": "4c7c363e",
   "metadata": {
    "execution": {
     "iopub.execute_input": "2022-11-12T09:24:11.358411Z",
     "iopub.status.busy": "2022-11-12T09:24:11.358024Z",
     "iopub.status.idle": "2022-11-12T09:24:11.366463Z",
     "shell.execute_reply": "2022-11-12T09:24:11.365580Z"
    },
    "papermill": {
     "duration": 0.023966,
     "end_time": "2022-11-12T09:24:11.368603",
     "exception": false,
     "start_time": "2022-11-12T09:24:11.344637",
     "status": "completed"
    },
    "tags": []
   },
   "outputs": [
    {
     "data": {
      "text/plain": [
       "0.3333333333333333"
      ]
     },
     "execution_count": 24,
     "metadata": {},
     "output_type": "execute_result"
    }
   ],
   "source": [
    "pred = grid_cv_lr.predict(X_test_count_vector)\n",
    "accuracy_score(y_test, pred)"
   ]
  },
  {
   "cell_type": "markdown",
   "id": "e12c9326",
   "metadata": {
    "papermill": {
     "duration": 0.011525,
     "end_time": "2022-11-12T09:24:11.392613",
     "exception": false,
     "start_time": "2022-11-12T09:24:11.381088",
     "status": "completed"
    },
    "tags": []
   },
   "source": [
    "# 7. Pipeline"
   ]
  },
  {
   "cell_type": "code",
   "execution_count": 25,
   "id": "ec13482d",
   "metadata": {
    "execution": {
     "iopub.execute_input": "2022-11-12T09:24:11.418770Z",
     "iopub.status.busy": "2022-11-12T09:24:11.417623Z",
     "iopub.status.idle": "2022-11-12T09:24:11.426807Z",
     "shell.execute_reply": "2022-11-12T09:24:11.425365Z"
    },
    "papermill": {
     "duration": 0.025517,
     "end_time": "2022-11-12T09:24:11.429644",
     "exception": false,
     "start_time": "2022-11-12T09:24:11.404127",
     "status": "completed"
    },
    "tags": []
   },
   "outputs": [],
   "source": [
    "from sklearn.pipeline import Pipeline\n",
    "\n",
    "pipeline = Pipeline([('count_vector', CountVectorizer(stop_words='english', max_df=100)),\n",
    "                    ('lr_clf', LogisticRegression())])"
   ]
  },
  {
   "cell_type": "code",
   "execution_count": 26,
   "id": "6eb21a34",
   "metadata": {
    "execution": {
     "iopub.execute_input": "2022-11-12T09:24:11.456043Z",
     "iopub.status.busy": "2022-11-12T09:24:11.455572Z",
     "iopub.status.idle": "2022-11-12T09:24:12.283838Z",
     "shell.execute_reply": "2022-11-12T09:24:12.282538Z"
    },
    "papermill": {
     "duration": 0.846193,
     "end_time": "2022-11-12T09:24:12.288016",
     "exception": false,
     "start_time": "2022-11-12T09:24:11.441823",
     "status": "completed"
    },
    "tags": []
   },
   "outputs": [
    {
     "data": {
      "text/plain": [
       "0.34"
      ]
     },
     "execution_count": 26,
     "metadata": {},
     "output_type": "execute_result"
    }
   ],
   "source": [
    "pipeline.fit(X_train, y_train)\n",
    "pred = pipeline.predict(X_test)\n",
    "\n",
    "accuracy_score(y_test, pred)"
   ]
  },
  {
   "cell_type": "markdown",
   "id": "632c7f86",
   "metadata": {
    "papermill": {
     "duration": 0.040354,
     "end_time": "2022-11-12T09:24:12.385038",
     "exception": false,
     "start_time": "2022-11-12T09:24:12.344684",
     "status": "completed"
    },
    "tags": []
   },
   "source": [
    "# 8. SVC"
   ]
  },
  {
   "cell_type": "code",
   "execution_count": 27,
   "id": "87795557",
   "metadata": {
    "execution": {
     "iopub.execute_input": "2022-11-12T09:24:12.416330Z",
     "iopub.status.busy": "2022-11-12T09:24:12.415874Z",
     "iopub.status.idle": "2022-11-12T09:24:12.872401Z",
     "shell.execute_reply": "2022-11-12T09:24:12.871126Z"
    },
    "papermill": {
     "duration": 0.478129,
     "end_time": "2022-11-12T09:24:12.875127",
     "exception": false,
     "start_time": "2022-11-12T09:24:12.396998",
     "status": "completed"
    },
    "tags": []
   },
   "outputs": [
    {
     "data": {
      "text/plain": [
       "0.3333333333333333"
      ]
     },
     "execution_count": 27,
     "metadata": {},
     "output_type": "execute_result"
    }
   ],
   "source": [
    "from sklearn.svm import SVC\n",
    "\n",
    "linearsvc = SVC()\n",
    "\n",
    "pipeline = Pipeline([('count_vector', CountVectorizer(stop_words='english', max_df=100)),\n",
    "                    ('linearsvc', SVC(kernel='linear'))])\n",
    "\n",
    "pipeline.fit(X_train, y_train)\n",
    "pred = pipeline.predict(X_test)\n",
    "\n",
    "accuracy_score(y_test, pred)"
   ]
  },
  {
   "cell_type": "markdown",
   "id": "c25debe4",
   "metadata": {
    "papermill": {
     "duration": 0.012274,
     "end_time": "2022-11-12T09:24:12.899873",
     "exception": false,
     "start_time": "2022-11-12T09:24:12.887599",
     "status": "completed"
    },
    "tags": []
   },
   "source": [
    "# 9. Multinomial Naive Bayes"
   ]
  },
  {
   "cell_type": "code",
   "execution_count": 28,
   "id": "88333cc6",
   "metadata": {
    "execution": {
     "iopub.execute_input": "2022-11-12T09:24:12.926977Z",
     "iopub.status.busy": "2022-11-12T09:24:12.926396Z",
     "iopub.status.idle": "2022-11-12T09:24:13.010126Z",
     "shell.execute_reply": "2022-11-12T09:24:13.009071Z"
    },
    "papermill": {
     "duration": 0.101041,
     "end_time": "2022-11-12T09:24:13.013634",
     "exception": false,
     "start_time": "2022-11-12T09:24:12.912593",
     "status": "completed"
    },
    "tags": []
   },
   "outputs": [
    {
     "data": {
      "text/plain": [
       "0.2866666666666667"
      ]
     },
     "execution_count": 28,
     "metadata": {},
     "output_type": "execute_result"
    }
   ],
   "source": [
    "from sklearn.naive_bayes import MultinomialNB\n",
    "\n",
    "mnb = MultinomialNB()\n",
    "\n",
    "pipeline = Pipeline([('count_vector', CountVectorizer(stop_words='english', max_df=100)),\n",
    "                    ('mnb', MultinomialNB())])\n",
    "\n",
    "pipeline.fit(X_train, y_train)\n",
    "pred = pipeline.predict(X_test)\n",
    "\n",
    "accuracy_score(y_test, pred)\n"
   ]
  },
  {
   "cell_type": "markdown",
   "id": "cde0ee9b",
   "metadata": {
    "papermill": {
     "duration": 0.012081,
     "end_time": "2022-11-12T09:24:13.041809",
     "exception": false,
     "start_time": "2022-11-12T09:24:13.029728",
     "status": "completed"
    },
    "tags": []
   },
   "source": [
    "# 10. MLP"
   ]
  },
  {
   "cell_type": "code",
   "execution_count": 29,
   "id": "059dc7cf",
   "metadata": {
    "execution": {
     "iopub.execute_input": "2022-11-12T09:24:13.073501Z",
     "iopub.status.busy": "2022-11-12T09:24:13.071922Z",
     "iopub.status.idle": "2022-11-12T09:24:16.981814Z",
     "shell.execute_reply": "2022-11-12T09:24:16.980137Z"
    },
    "papermill": {
     "duration": 3.930778,
     "end_time": "2022-11-12T09:24:16.987287",
     "exception": false,
     "start_time": "2022-11-12T09:24:13.056509",
     "status": "completed"
    },
    "tags": []
   },
   "outputs": [
    {
     "data": {
      "text/plain": [
       "0.31333333333333335"
      ]
     },
     "execution_count": 29,
     "metadata": {},
     "output_type": "execute_result"
    }
   ],
   "source": [
    "from sklearn.neural_network import MLPClassifier\n",
    "\n",
    "mlp = MLPClassifier(hidden_layer_sizes=(10,10,10), max_iter=5000, random_state=2211)\n",
    "\n",
    "pipeline = Pipeline([('count_vector', CountVectorizer(stop_words='english', max_df=100)),\n",
    "                    ('mlp', MLPClassifier(hidden_layer_sizes=(10,10,10), max_iter=5000, random_state=2211))])\n",
    "\n",
    "pipeline.fit(X_train, y_train)\n",
    "pred = pipeline.predict(X_test)\n",
    "\n",
    "accuracy_score(y_test, pred)"
   ]
  },
  {
   "cell_type": "markdown",
   "id": "a2089964",
   "metadata": {
    "papermill": {
     "duration": 0.031395,
     "end_time": "2022-11-12T09:24:17.055038",
     "exception": false,
     "start_time": "2022-11-12T09:24:17.023643",
     "status": "completed"
    },
    "tags": []
   },
   "source": [
    "> It will continue to be updated. Any comments would be appreciated."
   ]
  }
 ],
 "metadata": {
  "kernelspec": {
   "display_name": "Python 3",
   "language": "python",
   "name": "python3"
  },
  "language_info": {
   "codemirror_mode": {
    "name": "ipython",
    "version": 3
   },
   "file_extension": ".py",
   "mimetype": "text/x-python",
   "name": "python",
   "nbconvert_exporter": "python",
   "pygments_lexer": "ipython3",
   "version": "3.7.12"
  },
  "papermill": {
   "default_parameters": {},
   "duration": 67.741002,
   "end_time": "2022-11-12T09:24:17.897313",
   "environment_variables": {},
   "exception": null,
   "input_path": "__notebook__.ipynb",
   "output_path": "__notebook__.ipynb",
   "parameters": {},
   "start_time": "2022-11-12T09:23:10.156311",
   "version": "2.3.4"
  }
 },
 "nbformat": 4,
 "nbformat_minor": 5
}
